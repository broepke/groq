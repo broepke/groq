{
 "cells": [
  {
   "cell_type": "code",
   "execution_count": 1,
   "metadata": {},
   "outputs": [],
   "source": [
    "import os\n",
    "from groq import Groq"
   ]
  },
  {
   "cell_type": "code",
   "execution_count": 2,
   "metadata": {},
   "outputs": [],
   "source": [
    "client = Groq(\n",
    "    api_key=os.environ.get(\"GROQ_API_KEY\"),\n",
    ")"
   ]
  },
  {
   "cell_type": "code",
   "execution_count": 3,
   "metadata": {},
   "outputs": [
    {
     "name": "stdout",
     "output_type": "stream",
     "text": [
      "Letterkenny is a heck of a show! Here are 15 of the best one-liners from the show:\n",
      "\n",
      "1. \"Cracka-lackin' good time, eh?\" - Gae\n",
      "2. \"I'm the real deal, buddy. I'm the Wayne of the group.\" - Wayne\n",
      "3. \"That's a big ol' plate of nachos.\" - Jonesy\n",
      "4. \"Get the duck off, sucka!\" - Wayne\n",
      "5. \"You're a real prick, but I'm still gonna hug you.\" - Wayne\n",
      "6. \"I went to the rodeo and got gored by a bull, but I didn't die!\" - Wayne\n",
      "7. \"If you're gonna start a fight, you better be prepared to finish it.\" - Squirrely Dan\n",
      "8. \"I'm not arguing, I'm just explaining why I'm right.\" - Wayne\n",
      "9. \"Son, you're about as useful as a one-legged stool.\" - Coach\n",
      "10. \"I'd rather lick the floor in a public library than sit through a meeting with your momma.\" - Wayne\n",
      "11. \"That's not an insult, that's just the truth, buddy.\" - Jonesy\n",
      "12. \"You're closer to a chicken than you are to me, buddy.\" - Wayne\n",
      "13. \"That's not a drink, that's a puddle.\" - Gae\n",
      "14. \"If I don't get my way, I'll burn the whole damn town down.\" - Wayne\n",
      "15. \"You're not as smart as you think you are, but you're smarter than you act.\" - Wayne\n",
      "\n",
      "These one-liners capture the wit, humor, and spirit of the show. Ahhh, Letterkenny!\n"
     ]
    }
   ],
   "source": [
    "\n",
    "chat_completion = client.chat.completions.create(\n",
    "    messages=[\n",
    "        {\n",
    "            \"role\": \"user\",\n",
    "            \"content\": \"Give me 15 of the best one-liners from the TV show Letterkenny\",\n",
    "        }\n",
    "    ],\n",
    "    model=\"llama3-8b-8192\",\n",
    ")\n",
    "\n",
    "print(chat_completion.choices[0].message.content)"
   ]
  },
  {
   "cell_type": "code",
   "execution_count": null,
   "metadata": {},
   "outputs": [],
   "source": []
  }
 ],
 "metadata": {
  "kernelspec": {
   "display_name": "venv",
   "language": "python",
   "name": "python3"
  },
  "language_info": {
   "codemirror_mode": {
    "name": "ipython",
    "version": 3
   },
   "file_extension": ".py",
   "mimetype": "text/x-python",
   "name": "python",
   "nbconvert_exporter": "python",
   "pygments_lexer": "ipython3",
   "version": "3.9.6"
  }
 },
 "nbformat": 4,
 "nbformat_minor": 2
}
