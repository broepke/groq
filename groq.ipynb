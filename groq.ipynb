{
 "cells": [
  {
   "cell_type": "code",
   "execution_count": 1,
   "metadata": {},
   "outputs": [],
   "source": [
    "import os\n",
    "from groq import Groq"
   ]
  },
  {
   "cell_type": "code",
   "execution_count": 2,
   "metadata": {},
   "outputs": [],
   "source": [
    "client = Groq(\n",
    "    api_key=os.environ.get(\"GROQ_API_KEY\"),\n",
    ")"
   ]
  },
  {
   "cell_type": "code",
   "execution_count": 9,
   "metadata": {},
   "outputs": [],
   "source": [
    "\n",
    "chat_completion = client.chat.completions.create(\n",
    "    messages=[\n",
    "        {\n",
    "            \"role\": \"user\",\n",
    "            \"content\": \"Write a SQL query to join a customer and sales tables together\",\n",
    "        }\n",
    "    ],\n",
    "    model=\"llama3-8b-8192\",\n",
    ")"
   ]
  },
  {
   "cell_type": "code",
   "execution_count": 10,
   "metadata": {},
   "outputs": [
    {
     "name": "stdout",
     "output_type": "stream",
     "text": [
      "Here is an example SQL query to join a `customer` table and a `sales` table together:\n",
      "```\n",
      "SELECT c.customer_name, s.sales_date, s.product_name, s.quantity\n",
      "FROM customers c\n",
      "INNER JOIN sales s\n",
      "ON c.customer_id = s.customer_id;\n",
      "```\n",
      "In this example:\n",
      "\n",
      "* `customers` is the table alias for the `customers` table, and `c` is the alias for the table.\n",
      "* `sales` is the table alias for the `sales` table, and `s` is the alias for the table.\n",
      "* `c.customer_id` is the column in the `customers` table that matches the `customer_id` column in the `sales` table.\n",
      "* The `INNER JOIN` clause is used to combine rows from the `customers` and `sales` tables where the `customer_id` matches.\n",
      "* The `SELECT` clause specifies the columns to retrieve from both tables.\n",
      "* The `FROM` clause specifies the tables to join.\n",
      "\n",
      "This query will return a result set with the following columns:\n",
      "\n",
      "* `customer_name` from the `customers` table\n",
      "* `sales_date` from the `sales` table\n",
      "* `product_name` from the `sales` table\n",
      "* `quantity` from the `sales` table\n",
      "\n",
      "Note: Replace the table and column names with your actual table and column names.\n"
     ]
    }
   ],
   "source": [
    "print(chat_completion.choices[0].message.content)"
   ]
  },
  {
   "cell_type": "code",
   "execution_count": null,
   "metadata": {},
   "outputs": [],
   "source": []
  }
 ],
 "metadata": {
  "kernelspec": {
   "display_name": "venv",
   "language": "python",
   "name": "python3"
  },
  "language_info": {
   "codemirror_mode": {
    "name": "ipython",
    "version": 3
   },
   "file_extension": ".py",
   "mimetype": "text/x-python",
   "name": "python",
   "nbconvert_exporter": "python",
   "pygments_lexer": "ipython3",
   "version": "3.9.6"
  }
 },
 "nbformat": 4,
 "nbformat_minor": 2
}
